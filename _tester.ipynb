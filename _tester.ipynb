{
 "cells": [
  {
   "cell_type": "code",
   "execution_count": null,
   "metadata": {},
   "outputs": [],
   "source": [
    "from tkinter import *\n",
    "\n",
    "t = Tk()\n",
    "\n",
    "o = Frame(t, bd=100, relief=SOLID);\n",
    "o.pack(fill=BOTH, expand=True);\n",
    "#o.grid(row=0, column=0, sticky=NSEW);\n",
    "#o.place(relwidth=1, relheight=1, bordermode=INSIDE);\n",
    "i = Canvas(o, highlightthickness=0, bg=\"white\", width=200, height=1000);\n",
    "i.place(relwidth=1, x=0, y=0);\n",
    "i.create_line((0, 0), (200, 1000), fill=\"red\", width=3);\n",
    "\n",
    "def callback(event: Event):\n",
    "    pi = i.place_info();\n",
    "    i.place_configure(y=int(pi['y']) + event.delta // 2);\n",
    "def callback_up(event: Event):\n",
    "    i.place(y=int(i.place_info()['y']) - 60);\n",
    "def callback_down(event: Event):\n",
    "    i.place(y=int(i.place_info()['y']) + 60);\n",
    "\n",
    "t.bind(\"<Button-5>\", callback_up);\n",
    "t.bind(\"<Button-4>\", callback_down);\n",
    "\n",
    "t.geometry(\"200x200\");\n",
    "\n",
    "t.mainloop();"
   ]
  },
  {
   "cell_type": "code",
   "execution_count": null,
   "metadata": {},
   "outputs": [],
   "source": [
    "from tkinter import *\n",
    "\n",
    "for key, value in Frame.__dict__.items():\n",
    "    if not key.startswith('_'):\n",
    "        print(key, \": \", value, sep='');\n",
    "\n",
    "print(Frame().__dir__())"
   ]
  },
  {
   "cell_type": "code",
   "execution_count": null,
   "metadata": {},
   "outputs": [],
   "source": [
    "from functools import wraps\n",
    "\n",
    "def _remap_wrapper(method):\n",
    "    @wraps(method)\n",
    "    def wrapper(self, *args, **kwargs):\n",
    "        return method(self._other, *args, **kwargs);\n",
    "    \n",
    "    return wrapper;\n",
    "\n",
    "class A:\n",
    "    _REPLACE = (\"__str__\", \"__repr__\");\n",
    "\n",
    "    def __init__(self, other: object):\n",
    "        self._other = other;\n",
    "\n",
    "    locals().update({method_name: _remap_wrapper(getattr(object, method_name)) for method_name in _REPLACE});"
   ]
  },
  {
   "cell_type": "code",
   "execution_count": null,
   "metadata": {},
   "outputs": [],
   "source": [
    "a = A(set([1, 2,34 ,5, 34, 52345, 3]));\n",
    "print(a)"
   ]
  },
  {
   "cell_type": "code",
   "execution_count": null,
   "metadata": {},
   "outputs": [],
   "source": [
    "from tkinter import *\n",
    "\n",
    "t = Tk()\n",
    "\n",
    "bg = Frame(t)\n",
    "\n",
    "fg = Frame(bg)\n",
    "fg.pack(fill=BOTH, expand=True, padx=10, pady=10)\n",
    "\n",
    "t.bind(\"<x>\", lambda x: print(\"bg:\", bg.winfo_geometry(), \"fg:\", fg.winfo_geometry()))\n",
    "t.bind(\"<KP_Add>\", lambda x: bg.pack(fill=BOTH, expand=True))\n",
    "t.bind(\"<KP_Subtract>\", lambda x: bg.pack_forget())\n",
    "\n",
    "t.mainloop()"
   ]
  },
  {
   "cell_type": "code",
   "execution_count": 7,
   "metadata": {},
   "outputs": [
    {
     "name": "stdout",
     "output_type": "stream",
     "text": [
      "Help on function set in module tkinter:\n",
      "\n",
      "set(self, first, last)\n",
      "    Set the fractional values of the slider position (upper and\n",
      "    lower ends as value between 0 and 1).\n",
      "\n"
     ]
    }
   ],
   "source": [
    "import tkinter as tk\n",
    "\n",
    "help(tk.Scrollbar.set)"
   ]
  },
  {
   "cell_type": "code",
   "execution_count": null,
   "metadata": {},
   "outputs": [],
   "source": [
    "import decimal\n",
    "\n",
    "num_org, denom_org = int(input(\">>> \")), int(input(\">>> \"))\n",
    "c = num_org / denom_org\n",
    "num, denom = c.as_integer_ratio();\n",
    "print(f\"{num_org} / {denom_org} =\", c, '=', decimal.Decimal(num)/decimal.Decimal(denom), f\"= {num} / {denom}\")"
   ]
  },
  {
   "cell_type": "code",
   "execution_count": null,
   "metadata": {},
   "outputs": [],
   "source": [
    "a = 0\n",
    "for _ in range(10):\n",
    "    a += .1\n",
    "\n",
    "print(a, \"==\" if a == 1 else \"!=\", 1);"
   ]
  }
 ],
 "metadata": {
  "interpreter": {
   "hash": "916dbcbb3f70747c44a77c7bcd40155683ae19c65e1c03b4aa3499c5328201f1"
  },
  "kernelspec": {
   "display_name": "Python 3.8.10 64-bit",
   "language": "python",
   "name": "python3"
  },
  "language_info": {
   "codemirror_mode": {
    "name": "ipython",
    "version": 3
   },
   "file_extension": ".py",
   "mimetype": "text/x-python",
   "name": "python",
   "nbconvert_exporter": "python",
   "pygments_lexer": "ipython3",
   "version": "3.8.10"
  },
  "orig_nbformat": 4
 },
 "nbformat": 4,
 "nbformat_minor": 2
}
